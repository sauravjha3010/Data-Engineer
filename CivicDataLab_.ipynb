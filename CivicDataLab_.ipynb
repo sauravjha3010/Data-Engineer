{
  "nbformat": 4,
  "nbformat_minor": 0,
  "metadata": {
    "colab": {
      "provenance": []
    },
    "kernelspec": {
      "name": "python3",
      "display_name": "Python 3"
    },
    "language_info": {
      "name": "python"
    }
  },
  "cells": [
    {
      "cell_type": "code",
      "execution_count": null,
      "metadata": {
        "colab": {
          "base_uri": "https://localhost:8080/"
        },
        "id": "82qENqsjLfIM",
        "outputId": "ef44e1ab-3408-42b2-8b83-7af9c7f9c044"
      },
      "outputs": [
        {
          "output_type": "stream",
          "name": "stdout",
          "text": [
            "Collecting pyspark\n",
            "  Downloading pyspark-3.5.1.tar.gz (317.0 MB)\n",
            "\u001b[2K     \u001b[90m━━━━━━━━━━━━━━━━━━━━━━━━━━━━━━━━━━━━━━━━\u001b[0m \u001b[32m317.0/317.0 MB\u001b[0m \u001b[31m4.2 MB/s\u001b[0m eta \u001b[36m0:00:00\u001b[0m\n",
            "\u001b[?25h  Preparing metadata (setup.py) ... \u001b[?25l\u001b[?25hdone\n",
            "Requirement already satisfied: py4j==0.10.9.7 in /usr/local/lib/python3.10/dist-packages (from pyspark) (0.10.9.7)\n",
            "Building wheels for collected packages: pyspark\n",
            "  Building wheel for pyspark (setup.py) ... \u001b[?25l\u001b[?25hdone\n",
            "  Created wheel for pyspark: filename=pyspark-3.5.1-py2.py3-none-any.whl size=317488490 sha256=db94203efb757e236fefa3648ada379abb5ea7dd0f2062558832a3d870436350\n",
            "  Stored in directory: /root/.cache/pip/wheels/80/1d/60/2c256ed38dddce2fdd93be545214a63e02fbd8d74fb0b7f3a6\n",
            "Successfully built pyspark\n",
            "Installing collected packages: pyspark\n",
            "Successfully installed pyspark-3.5.1\n"
          ]
        }
      ],
      "source": [
        "!pip install pyspark"
      ]
    },
    {
      "cell_type": "code",
      "source": [
        "from pyspark.sql import SparkSession, DataFrame\n",
        "from pyspark.sql.functions import col, to_date, when, upper\n",
        "\n",
        "class DataCleaningPipeline:\n",
        "    def __init__(self, spark: SparkSession, data_path: str):\n",
        "        self.spark = spark\n",
        "        self.df = self.spark.read.option(\"header\", \"true\").csv(data_path)\n",
        "\n",
        "    def handle_missing_values(self, column: str):\n",
        "        \"\"\"Replace empty strings with None in the specified column.\"\"\"\n",
        "        self.df = self.df.withColumn(column, when(col(column) == '', None).otherwise(col(column)))\n",
        "        return self\n",
        "\n",
        "    def standardize_gender(self):\n",
        "        \"\"\"Standardize the gender column to 'M' and 'F'.\"\"\"\n",
        "        self.df = self.df.withColumn(\"Gender\", upper(col(\"Gender\")))\n",
        "        self.df = self.df.withColumn(\"Gender\", when(col(\"Gender\").isin(\"MALE\", \"M\"), \"M\")\n",
        "                                     .when(col(\"Gender\").isin(\"FEMALE\", \"F\"), \"F\")\n",
        "                                     .otherwise(None))\n",
        "        return self\n",
        "\n",
        "    def standardize_dates(self, columns: list):\n",
        "        \"\"\"Convert specified columns to date type.\"\"\"\n",
        "        for column in columns:\n",
        "            self.df = self.df.withColumn(column, to_date(col(column), \"yyyy-MM-dd\"))\n",
        "        return self\n",
        "\n",
        "    def remove_duplicates(self, columns: list):\n",
        "        \"\"\"Remove duplicates based on the specified columns.\"\"\"\n",
        "        self.df = self.df.dropDuplicates(columns)\n",
        "        return self\n",
        "\n",
        "    def validate_email(self):\n",
        "        \"\"\"Validate email addresses and replace invalid emails with None.\"\"\"\n",
        "        self.df = self.df.withColumn(\"Email\", when(self.df.Email.contains('@'), self.df.Email).otherwise(None))\n",
        "        return self\n",
        "\n",
        "    def drop_nulls(self, columns: list = None):\n",
        "        \"\"\"Drop rows with null values in the specified columns. If no columns are specified, drop rows with nulls in any column.\"\"\"\n",
        "        if columns:\n",
        "            self.df = self.df.dropna(subset=columns)\n",
        "        else:\n",
        "            self.df = self.df.dropna()\n",
        "        return self\n",
        "\n",
        "    def show_data(self, num_rows: int = 20):\n",
        "        \"\"\"Display the cleaned data.\"\"\"\n",
        "        self.df.show(num_rows)\n",
        "\n",
        "    def save_data(self, output_path: str):\n",
        "        \"\"\"Save the cleaned data to a specified path.\"\"\"\n",
        "        self.df.write.mode(\"overwrite\").parquet(output_path)\n",
        "\n",
        "# Initialize Spark session\n",
        "spark = SparkSession.builder.appName(\"DataCleaning\").getOrCreate()\n",
        "\n",
        "# Initialize the pipeline with the data path\n",
        "pipeline = DataCleaningPipeline(spark, \"/content/Assignment Task _ Dataset - Sheet1.csv\")\n",
        "\n",
        "# Run the data cleaning steps\n",
        "pipeline.handle_missing_values(\"Name\")\\\n",
        "        .handle_missing_values(\"Email\")\\\n",
        "        .standardize_gender()\\\n",
        "        .standardize_dates([\"Join_Date\", \"Last_Login\"])\\\n",
        "        .remove_duplicates([\"ID\"])\\\n",
        "        .validate_email()\\\n",
        "        .drop_nulls()  # Show cleaned data\n",
        "\n",
        "# Save the cleaned data if needed\n",
        "pipeline.save_data(\"/content/data\")\n"
      ],
      "metadata": {
        "id": "smesOMp9OjG9"
      },
      "execution_count": null,
      "outputs": []
    },
    {
      "cell_type": "code",
      "source": [],
      "metadata": {
        "id": "dlCOPJL7Qr0R"
      },
      "execution_count": null,
      "outputs": []
    }
  ]
}